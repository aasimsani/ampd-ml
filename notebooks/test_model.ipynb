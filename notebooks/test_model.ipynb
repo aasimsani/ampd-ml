{
 "cells": [
  {
   "cell_type": "code",
   "execution_count": null,
   "id": "f90306eb-016a-4416-89b3-bc8b50a458c6",
   "metadata": {},
   "outputs": [],
   "source": [
    "cd ../"
   ]
  },
  {
   "cell_type": "code",
   "execution_count": null,
   "id": "52005db6-c5e2-4743-aa65-5762e96fbb4c",
   "metadata": {},
   "outputs": [],
   "source": [
    "from models.lit_models import BaseModel"
   ]
  },
  {
   "cell_type": "code",
   "execution_count": null,
   "id": "619f0cb8-5123-49ae-b976-278871120503",
   "metadata": {},
   "outputs": [],
   "source": [
    "import torch\n",
    "import torchvision.transforms as T"
   ]
  },
  {
   "cell_type": "code",
   "execution_count": null,
   "id": "0e336023-c6b6-4dae-8d32-400d557fd606",
   "metadata": {},
   "outputs": [],
   "source": [
    "device = torch.device('cuda' if torch.cuda.is_available() else 'cpu')"
   ]
  },
  {
   "cell_type": "code",
   "execution_count": null,
   "id": "929695a7-e09e-4084-9f2e-9ac89514f1a5",
   "metadata": {},
   "outputs": [],
   "source": [
    "checkpoint = \"artifacts/weights/fasterrcnn-1kimages-weightdecay.ckpt\""
   ]
  },
  {
   "cell_type": "code",
   "execution_count": null,
   "id": "998af7b4-507e-4fb1-a463-6d2936d6dfc8",
   "metadata": {},
   "outputs": [],
   "source": [
    "optimizer = torch.optim.AdamW\n",
    "weight_decay = 0.0\n",
    "learning_rate = 6.918309709189363e-05\n",
    "model = BaseModel.load_from_checkpoint(checkpoint_path=checkpoint,\n",
    "                                       optimizer=optimizer,\n",
    "                                       learning_rate=learning_rate,\n",
    "                                       weight_decay=weight_decay,\n",
    "                                       pretrained_backbone=True,\n",
    "                                       num_classes=2,\n",
    "                                       )\n",
    "model.to(device)\n",
    "model.eval()\n",
    "print(\"Model in eval\")"
   ]
  },
  {
   "cell_type": "code",
   "execution_count": null,
   "id": "616d3326-f83e-43e8-aa3e-540b1f21a89d",
   "metadata": {},
   "outputs": [],
   "source": [
    "from PIL import Image, ImageDraw, ImageFont"
   ]
  },
  {
   "cell_type": "code",
   "execution_count": null,
   "id": "7e4f0280-be91-48a0-b1f4-992c70bfeb92",
   "metadata": {},
   "outputs": [],
   "source": [
    "font = ImageFont.truetype(\"notebooks/Arial Unicode.ttf\", 40)"
   ]
  },
  {
   "cell_type": "code",
   "execution_count": null,
   "id": "2c63e10c-18a2-41bc-ae01-7282a8924160",
   "metadata": {},
   "outputs": [],
   "source": [
    "test_img = Image.open(\"test2.jpeg\").convert(\"L\")\n",
    "w, h = test_img.size\n",
    "draw = ImageDraw.Draw(test_img)\n",
    "test_img_small = test_img.resize((212, 300))\n",
    "test_img_tensor = T.ToTensor()(test_img_small)\n",
    "test_img_tensor = test_img_tensor.repeat(3, 1, 1)\n",
    "test_img_tensor = test_img_tensor.to(device)"
   ]
  },
  {
   "cell_type": "code",
   "execution_count": null,
   "id": "049abb25-7191-40aa-90c7-f95d0ef76c7a",
   "metadata": {},
   "outputs": [],
   "source": [
    "losses, detections = model([test_img_tensor])"
   ]
  },
  {
   "cell_type": "code",
   "execution_count": null,
   "id": "42871cab-3871-4d32-9e7d-6b82a16f5f7b",
   "metadata": {},
   "outputs": [],
   "source": [
    "for idx, box in enumerate(detections[0]['boxes']):\n",
    "    x1 = (box[0]/212)*w\n",
    "    x2 = (box[2]/212)*w\n",
    "    y1 = (box[1]/300)*h\n",
    "    y2 = (box[3]/300)*h\n",
    "    nbox = [x1, y1, x2, y2]\n",
    "    score = detections[0]['scores'][idx].detach().item()\n",
    "    if score > 0.5:\n",
    "        draw.rectangle(nbox, outline=\"red\", width=10)\n",
    "        draw.text([x1,y1-20], str(round(score)), font=font)"
   ]
  },
  {
   "cell_type": "code",
   "execution_count": null,
   "id": "444a85c5-217a-4752-bff8-0be89e789b8f",
   "metadata": {},
   "outputs": [],
   "source": [
    "test_img"
   ]
  }
 ],
 "metadata": {
  "kernelspec": {
   "display_name": "Python 3",
   "language": "python",
   "name": "python3"
  },
  "language_info": {
   "codemirror_mode": {
    "name": "ipython",
    "version": 3
   },
   "file_extension": ".py",
   "mimetype": "text/x-python",
   "name": "python",
   "nbconvert_exporter": "python",
   "pygments_lexer": "ipython3",
   "version": "3.9.4"
  }
 },
 "nbformat": 4,
 "nbformat_minor": 5
}
